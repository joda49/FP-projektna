{
 "cells": [
  {
   "cell_type": "code",
   "execution_count": 1,
   "metadata": {},
   "outputs": [],
   "source": [
    "%run generiranje_matrik.ipynb\n",
    "%run definicije.ipynb\n",
    "%run preizkusi.ipynb\n",
    "%run popravljeno.ipynb"
   ]
  },
  {
   "cell_type": "code",
   "execution_count": 2,
   "metadata": {},
   "outputs": [],
   "source": [
    "#naredimo matrike\n",
    "A1 = mat_2Dmreza(1, 100)\n",
    "A2 = mat_2Dmreza(2, 50)\n",
    "A3 = mat_2Dmreza(10, 10)\n",
    "B = mat_3Dmreza(5, 5, 4)\n",
    "C = mat_binarno_drevo(6)\n",
    "D = mat_ciklicni_graf(100)"
   ]
  },
  {
   "cell_type": "code",
   "execution_count": 0,
   "metadata": {},
   "outputs": [],
   "source": [
    "#zračunamo centralno vozlišče za vsako matriko\n",
    "centerA1 = centralnost(A1)\n",
    "centerA2 = centralnost(A2)\n",
    "centerA3 = centralnost(A3)\n",
    "centerB = centralnost(B)\n",
    "centerC = centralnost(C)\n",
    "centerD = centralnost(D)\n",
    "sez1=[centerA1, centerA2, centerA3, centerB, centerC, centerD]\n",
    "\n",
    "#v centralnem vozlišču po definiciji izračunamo naključni sprehod bližine centralnosti\n",
    "R1A1 = nakjucni_sprehod_blizine_centralnosti(centerA1[0],A1)\n",
    "R1A2 = nakjucni_sprehod_blizine_centralnosti(centerA2[0],A2)\n",
    "R1A3 = nakjucni_sprehod_blizine_centralnosti(centerA3[0],A3)\n",
    "R1B = nakjucni_sprehod_blizine_centralnosti(centerB[0],B)\n",
    "R1C = nakjucni_sprehod_blizine_centralnosti(centerC[0],C)\n",
    "R1D = nakjucni_sprehod_blizine_centralnosti(centerD[0],D)\n",
    "sez2=[R1A1, R1A2, R1A3, R1B, R1C, R1D]\n",
    "\n",
    "#v centralnem vozlišču\n",
    "R2A1_100 = nsbc_koncna(A1, centerA1[0], 100)\n",
    "R2A2_100 = nsbc_koncna(A2, centerA2[0], 100)\n",
    "R2A3_100 = nsbc_koncna(A3, centerA3[0], 100)\n",
    "R2B_100 = nsbc_koncna(B, centerB[0], 100)\n",
    "R2C_100 = nsbc_koncna(C, centerC[0], 100)\n",
    "R2D_100 = nsbc_koncna(D, centerD[0], 100)\n",
    "sez3=[R2A1_100, R2A2_100, R2A3_100, R2B_100, R2C_100, R2D_100]\n",
    "\n",
    "R2A1_1000 = nsbc_koncna(A1, centerA1[0], 1000)\n",
    "R2A2_1000 = nsbc_koncna(A2, centerA2[0], 1000)\n",
    "R2A3_1000 = nsbc_koncna(A3, centerA3[0], 1000)\n",
    "R2B_1000 = nsbc_koncna(B, centerB[0], 1000)\n",
    "R2C_1000 = nsbc_koncna(C, centerC[0], 1000)\n",
    "R2D_1000 = nsbc_koncna(D, centerD[0], 1000)\n",
    "sez4=[R2A1_1000, R2A2_1000, R2A3_1000, R2B_1000, R2C_1000, R2D_1000]\n",
    "\n",
    "R2A1_10000 = nsbc_koncna(A1, centerA1[0], 10000)\n",
    "R2A2_10000 = nsbc_koncna(A2, centerA2[0], 10000)\n",
    "R2A3_10000 = nsbc_koncna(A3, centerA3[0], 10000)\n",
    "R2B_10000 = nsbc_koncna(B, centerB[0], 10000)\n",
    "R2C_10000 = nsbc_koncna(C, centerC[0], 10000)\n",
    "R2D_10000 = nsbc_koncna(D, centerD[0], 10000)\n",
    "sez5=[R2A1_10000, R2A2_10000, R2A3_10000, R2B_10000, R2C_10000, R2D_10000]\n",
    "\n",
    "R2A1_100000 = nsbc_koncna(A1, centerA1[0], 100000)\n",
    "R2A2_100000 = nsbc_koncna(A2, centerA2[0], 100000)\n",
    "R2A3_100000 = nsbc_koncna(A3, centerA3[0], 100000)\n",
    "R2B_100000 = nsbc_koncna(B, centerB[0], 100000)\n",
    "R2C_100000 = nsbc_koncna(C, centerC[0], 100000)\n",
    "R2D_100000 = nsbc_koncna(D, centerD[0], 100000)\n",
    "sez6=[R2A1_100000, R2A2_100000, R2A3_100000, R2B_100000, R2C_100000, R2D_100000]\n",
    "\n",
    "#po stari metodi\n",
    "S_A1 = nsbc_max(A1,1000)\n",
    "S_A2 = nsbc_max(A2,1000)\n",
    "S_A3 = nsbc_max(A2,1000)\n",
    "S_B = nsbc_max(B,1000)\n",
    "S_C = nsbc_max(C,1000)\n",
    "S_D = nsbc_max(D,1000)\n",
    "sez7 =[S_A1, S_A2, S_A3, S_B, S_C, S_D]\n",
    "\n",
    "S_2A1 = nsbc_max(A1,10000)\n",
    "S_2A2 = nsbc_max(A2,10000)\n",
    "S_2A3 = nsbc_max(A2,10000)\n",
    "S_2B = nsbc_max(B,10000)\n",
    "S_2C = nsbc_max(C,10000)\n",
    "S_2D = nsbc_max(D,10000)\n",
    "sez8 =[S_2A1, S_2A2, S_2A3, S_2B, S_2C, S_2D]"
   ]
  },
  {
   "cell_type": "code",
   "execution_count": 3,
   "metadata": {},
   "outputs": [],
   "source": [
    "import json\n",
    "\n",
    "def read_json(i):\n",
    "    with open(\"sez%d.json\" % i) as f:\n",
    "        return json.load(f)"
   ]
  },
  {
   "cell_type": "code",
   "execution_count": 4,
   "metadata": {},
   "outputs": [],
   "source": [
    "sez1 = read_json(1)\n",
    "sez2 = read_json(2)\n",
    "sez3 = read_json(3)"
   ]
  },
  {
   "cell_type": "code",
   "execution_count": 5,
   "metadata": {},
   "outputs": [
    {
     "name": "stdout",
     "output_type": "stream",
     "text": [
      "[[49, 0.0004], [24, 0.0007692307692307692], [44, 0.002], [49, 0.0029411764705882353], [0, 0.001557632398753894], [0, 0.0004]]\n",
      "[0.0006090133982947625, 0.0015250320594099318, 0.00668049916934059, 0.01025663461427791, 0.004410641105785928, 0.0006000600060006001]\n",
      "[0.0006040581350381626, 0.0014968477882427397, 0.006646576282091332, 0.01025340259165004, 0.004398917381404148, 0.0005924169914197878]\n"
     ]
    }
   ],
   "source": [
    "print(sez1)\n",
    "print(sez2)\n",
    "print(sez3)"
   ]
  },
  {
   "cell_type": "code",
   "execution_count": null,
   "metadata": {},
   "outputs": [],
   "source": [
    "sez4 = read_json(4)\n",
    "sez5 = read_json(5)\n",
    "sez6 = read_json(6)\n",
    "sez7 = read_json(7)\n",
    "sez8 = read_json(8)"
   ]
  }
 ],
 "metadata": {
  "kernelspec": {
   "display_name": "SageMath 9.1",
   "language": "sagemath",
   "metadata": {
    "cocalc": {
     "description": "Open-source mathematical software system",
     "priority": 1,
     "url": "https://www.sagemath.org/"
    }
   },
   "name": "sage-9.1",
   "resource_dir": "/ext/jupyter/kernels/sage-9.1"
  }
 },
 "nbformat": 4,
 "nbformat_minor": 4
}
